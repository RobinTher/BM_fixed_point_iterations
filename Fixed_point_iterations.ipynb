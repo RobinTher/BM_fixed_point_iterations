{
 "cells": [
  {
   "cell_type": "code",
   "execution_count": 2,
   "metadata": {},
   "outputs": [],
   "source": [
    "import numpy as np\n",
    "from scipy.integrate import quad\n",
    "from scipy.integrate import simpson\n",
    "from scipy.special import erfinv\n",
    "\n",
    "import matplotlib.pyplot as plt\n",
    "import matplotlib.colors as colors\n",
    "%matplotlib inline\n",
    "\n",
    "eps = 2*np.sqrt(np.finfo(\"float\").eps)"
   ]
  },
  {
   "cell_type": "code",
   "execution_count": null,
   "metadata": {},
   "outputs": [],
   "source": [
    "def L_eff(spins, spins_s, z_on_diag, z_off_diag, m, s, q_off_diag, q_on_diag, beta_eff):\n",
    "    q_sym = (q_off_diag + q_off_diag.T)/2\n",
    "    \n",
    "    action = 1/2*beta_eff**2 * (spins @ (s - q_sym) @ spins) + beta_eff**2 * (spins @ m @ spins_s)\n",
    "    action += beta_eff * (spins * z_on_diag) @ np.sqrt(q_on_diag - np.sum(q_sym, axis = 1))\n",
    "    action += beta_eff * spins @ np.sum(np.sqrt(q_sym) * z_off_diag, axis = 1)\n",
    "    \n",
    "    return action"
   ]
  }
 ],
 "metadata": {
  "kernelspec": {
   "display_name": "Python 3",
   "language": "python",
   "name": "python3"
  },
  "language_info": {
   "codemirror_mode": {
    "name": "ipython",
    "version": 3
   },
   "file_extension": ".py",
   "mimetype": "text/x-python",
   "name": "python",
   "nbconvert_exporter": "python",
   "pygments_lexer": "ipython3",
   "version": "3.7.4"
  }
 },
 "nbformat": 4,
 "nbformat_minor": 2
}
